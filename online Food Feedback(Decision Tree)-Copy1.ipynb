{
 "cells": [
  {
   "cell_type": "code",
   "execution_count": 1,
   "id": "2a16e641",
   "metadata": {},
   "outputs": [],
   "source": [
    "import pandas as pd\n",
    "import matplotlib.pyplot as plt\n",
    "import numpy as np\n",
    "from sklearn.tree import DecisionTreeClassifier,DecisionTreeRegressor\n",
    "from sklearn.metrics import accuracy_score,confusion_matrix,r2_score,classification_report\n",
    "from sklearn.model_selection import train_test_split\n",
    "from sklearn.preprocessing import LabelEncoder"
   ]
  },
  {
   "cell_type": "code",
   "execution_count": 2,
   "id": "bd40fefc",
   "metadata": {},
   "outputs": [],
   "source": [
    "df=pd.read_csv(\"C:/online food dataset/archive (10)/onlinefoods.csv\")"
   ]
  },
  {
   "cell_type": "code",
   "execution_count": 3,
   "id": "1854374b",
   "metadata": {},
   "outputs": [],
   "source": [
    "df.drop('Unnamed: 12',axis=1,inplace=True)"
   ]
  },
  {
   "cell_type": "code",
   "execution_count": 4,
   "id": "d332761a",
   "metadata": {},
   "outputs": [],
   "source": [
    "encoder1=LabelEncoder()\n",
    "encoder2=LabelEncoder()\n",
    "encoder3=LabelEncoder()\n",
    "encoder4=LabelEncoder()\n",
    "encoder5=LabelEncoder()\n",
    "encoder6=LabelEncoder()\n",
    "encoder7=LabelEncoder()"
   ]
  },
  {
   "cell_type": "code",
   "execution_count": 5,
   "id": "92af8439",
   "metadata": {},
   "outputs": [],
   "source": [
    "df['Gender']=encoder1.fit_transform(df['Gender'])\n",
    "df['Marital Status']=encoder2.fit_transform(df['Marital Status'])\n",
    "df['Occupation']=encoder3.fit_transform(df['Occupation'])\n",
    "df['Educational Qualifications']=encoder4.fit_transform(df['Educational Qualifications'])\n",
    "df['Output']=encoder5.fit_transform(df['Output'])\n",
    "df['Feedback']=encoder6.fit_transform(df['Feedback'])\n",
    "df['Monthly Income']=encoder7.fit_transform(df['Monthly Income'])"
   ]
  },
  {
   "cell_type": "code",
   "execution_count": 6,
   "id": "87da539c",
   "metadata": {},
   "outputs": [
    {
     "data": {
      "text/html": [
       "<div>\n",
       "<style scoped>\n",
       "    .dataframe tbody tr th:only-of-type {\n",
       "        vertical-align: middle;\n",
       "    }\n",
       "\n",
       "    .dataframe tbody tr th {\n",
       "        vertical-align: top;\n",
       "    }\n",
       "\n",
       "    .dataframe thead th {\n",
       "        text-align: right;\n",
       "    }\n",
       "</style>\n",
       "<table border=\"1\" class=\"dataframe\">\n",
       "  <thead>\n",
       "    <tr style=\"text-align: right;\">\n",
       "      <th></th>\n",
       "      <th>Age</th>\n",
       "      <th>Gender</th>\n",
       "      <th>Marital Status</th>\n",
       "      <th>Occupation</th>\n",
       "      <th>Monthly Income</th>\n",
       "      <th>Educational Qualifications</th>\n",
       "      <th>Family size</th>\n",
       "      <th>latitude</th>\n",
       "      <th>longitude</th>\n",
       "      <th>Pin code</th>\n",
       "      <th>Output</th>\n",
       "      <th>Feedback</th>\n",
       "    </tr>\n",
       "  </thead>\n",
       "  <tbody>\n",
       "    <tr>\n",
       "      <th>Age</th>\n",
       "      <td>1.000000</td>\n",
       "      <td>0.062038</td>\n",
       "      <td>-0.663269</td>\n",
       "      <td>-0.579334</td>\n",
       "      <td>-0.309798</td>\n",
       "      <td>0.009240</td>\n",
       "      <td>0.169982</td>\n",
       "      <td>0.006595</td>\n",
       "      <td>0.047500</td>\n",
       "      <td>0.137294</td>\n",
       "      <td>-0.248052</td>\n",
       "      <td>-0.198170</td>\n",
       "    </tr>\n",
       "    <tr>\n",
       "      <th>Gender</th>\n",
       "      <td>0.062038</td>\n",
       "      <td>1.000000</td>\n",
       "      <td>0.031781</td>\n",
       "      <td>-0.004934</td>\n",
       "      <td>0.005281</td>\n",
       "      <td>-0.082837</td>\n",
       "      <td>-0.082488</td>\n",
       "      <td>-0.046424</td>\n",
       "      <td>-0.059175</td>\n",
       "      <td>0.035685</td>\n",
       "      <td>0.034701</td>\n",
       "      <td>-0.045486</td>\n",
       "    </tr>\n",
       "    <tr>\n",
       "      <th>Marital Status</th>\n",
       "      <td>-0.663269</td>\n",
       "      <td>0.031781</td>\n",
       "      <td>1.000000</td>\n",
       "      <td>0.557267</td>\n",
       "      <td>0.297593</td>\n",
       "      <td>0.086039</td>\n",
       "      <td>-0.207170</td>\n",
       "      <td>0.053687</td>\n",
       "      <td>-0.032214</td>\n",
       "      <td>-0.099405</td>\n",
       "      <td>0.268759</td>\n",
       "      <td>0.188500</td>\n",
       "    </tr>\n",
       "    <tr>\n",
       "      <th>Occupation</th>\n",
       "      <td>-0.579334</td>\n",
       "      <td>-0.004934</td>\n",
       "      <td>0.557267</td>\n",
       "      <td>1.000000</td>\n",
       "      <td>0.620219</td>\n",
       "      <td>0.183207</td>\n",
       "      <td>-0.056563</td>\n",
       "      <td>0.112430</td>\n",
       "      <td>-0.193483</td>\n",
       "      <td>-0.138857</td>\n",
       "      <td>0.253506</td>\n",
       "      <td>0.195984</td>\n",
       "    </tr>\n",
       "    <tr>\n",
       "      <th>Monthly Income</th>\n",
       "      <td>-0.309798</td>\n",
       "      <td>0.005281</td>\n",
       "      <td>0.297593</td>\n",
       "      <td>0.620219</td>\n",
       "      <td>1.000000</td>\n",
       "      <td>0.145041</td>\n",
       "      <td>0.018184</td>\n",
       "      <td>0.078574</td>\n",
       "      <td>-0.137106</td>\n",
       "      <td>-0.074439</td>\n",
       "      <td>0.211994</td>\n",
       "      <td>0.204408</td>\n",
       "    </tr>\n",
       "    <tr>\n",
       "      <th>Educational Qualifications</th>\n",
       "      <td>0.009240</td>\n",
       "      <td>-0.082837</td>\n",
       "      <td>0.086039</td>\n",
       "      <td>0.183207</td>\n",
       "      <td>0.145041</td>\n",
       "      <td>1.000000</td>\n",
       "      <td>0.011846</td>\n",
       "      <td>0.073258</td>\n",
       "      <td>-0.113820</td>\n",
       "      <td>-0.097340</td>\n",
       "      <td>0.131758</td>\n",
       "      <td>0.115614</td>\n",
       "    </tr>\n",
       "    <tr>\n",
       "      <th>Family size</th>\n",
       "      <td>0.169982</td>\n",
       "      <td>-0.082488</td>\n",
       "      <td>-0.207170</td>\n",
       "      <td>-0.056563</td>\n",
       "      <td>0.018184</td>\n",
       "      <td>0.011846</td>\n",
       "      <td>1.000000</td>\n",
       "      <td>-0.053537</td>\n",
       "      <td>0.070126</td>\n",
       "      <td>-0.009402</td>\n",
       "      <td>-0.043780</td>\n",
       "      <td>-0.010148</td>\n",
       "    </tr>\n",
       "    <tr>\n",
       "      <th>latitude</th>\n",
       "      <td>0.006595</td>\n",
       "      <td>-0.046424</td>\n",
       "      <td>0.053687</td>\n",
       "      <td>0.112430</td>\n",
       "      <td>0.078574</td>\n",
       "      <td>0.073258</td>\n",
       "      <td>-0.053537</td>\n",
       "      <td>1.000000</td>\n",
       "      <td>-0.144234</td>\n",
       "      <td>-0.201813</td>\n",
       "      <td>-0.159963</td>\n",
       "      <td>-0.128939</td>\n",
       "    </tr>\n",
       "    <tr>\n",
       "      <th>longitude</th>\n",
       "      <td>0.047500</td>\n",
       "      <td>-0.059175</td>\n",
       "      <td>-0.032214</td>\n",
       "      <td>-0.193483</td>\n",
       "      <td>-0.137106</td>\n",
       "      <td>-0.113820</td>\n",
       "      <td>0.070126</td>\n",
       "      <td>-0.144234</td>\n",
       "      <td>1.000000</td>\n",
       "      <td>0.156119</td>\n",
       "      <td>0.045265</td>\n",
       "      <td>0.073083</td>\n",
       "    </tr>\n",
       "    <tr>\n",
       "      <th>Pin code</th>\n",
       "      <td>0.137294</td>\n",
       "      <td>0.035685</td>\n",
       "      <td>-0.099405</td>\n",
       "      <td>-0.138857</td>\n",
       "      <td>-0.074439</td>\n",
       "      <td>-0.097340</td>\n",
       "      <td>-0.009402</td>\n",
       "      <td>-0.201813</td>\n",
       "      <td>0.156119</td>\n",
       "      <td>1.000000</td>\n",
       "      <td>-0.019929</td>\n",
       "      <td>-0.003603</td>\n",
       "    </tr>\n",
       "    <tr>\n",
       "      <th>Output</th>\n",
       "      <td>-0.248052</td>\n",
       "      <td>0.034701</td>\n",
       "      <td>0.268759</td>\n",
       "      <td>0.253506</td>\n",
       "      <td>0.211994</td>\n",
       "      <td>0.131758</td>\n",
       "      <td>-0.043780</td>\n",
       "      <td>-0.159963</td>\n",
       "      <td>0.045265</td>\n",
       "      <td>-0.019929</td>\n",
       "      <td>1.000000</td>\n",
       "      <td>0.592609</td>\n",
       "    </tr>\n",
       "    <tr>\n",
       "      <th>Feedback</th>\n",
       "      <td>-0.198170</td>\n",
       "      <td>-0.045486</td>\n",
       "      <td>0.188500</td>\n",
       "      <td>0.195984</td>\n",
       "      <td>0.204408</td>\n",
       "      <td>0.115614</td>\n",
       "      <td>-0.010148</td>\n",
       "      <td>-0.128939</td>\n",
       "      <td>0.073083</td>\n",
       "      <td>-0.003603</td>\n",
       "      <td>0.592609</td>\n",
       "      <td>1.000000</td>\n",
       "    </tr>\n",
       "  </tbody>\n",
       "</table>\n",
       "</div>"
      ],
      "text/plain": [
       "                                 Age    Gender  Marital Status  Occupation  \\\n",
       "Age                         1.000000  0.062038       -0.663269   -0.579334   \n",
       "Gender                      0.062038  1.000000        0.031781   -0.004934   \n",
       "Marital Status             -0.663269  0.031781        1.000000    0.557267   \n",
       "Occupation                 -0.579334 -0.004934        0.557267    1.000000   \n",
       "Monthly Income             -0.309798  0.005281        0.297593    0.620219   \n",
       "Educational Qualifications  0.009240 -0.082837        0.086039    0.183207   \n",
       "Family size                 0.169982 -0.082488       -0.207170   -0.056563   \n",
       "latitude                    0.006595 -0.046424        0.053687    0.112430   \n",
       "longitude                   0.047500 -0.059175       -0.032214   -0.193483   \n",
       "Pin code                    0.137294  0.035685       -0.099405   -0.138857   \n",
       "Output                     -0.248052  0.034701        0.268759    0.253506   \n",
       "Feedback                   -0.198170 -0.045486        0.188500    0.195984   \n",
       "\n",
       "                            Monthly Income  Educational Qualifications  \\\n",
       "Age                              -0.309798                    0.009240   \n",
       "Gender                            0.005281                   -0.082837   \n",
       "Marital Status                    0.297593                    0.086039   \n",
       "Occupation                        0.620219                    0.183207   \n",
       "Monthly Income                    1.000000                    0.145041   \n",
       "Educational Qualifications        0.145041                    1.000000   \n",
       "Family size                       0.018184                    0.011846   \n",
       "latitude                          0.078574                    0.073258   \n",
       "longitude                        -0.137106                   -0.113820   \n",
       "Pin code                         -0.074439                   -0.097340   \n",
       "Output                            0.211994                    0.131758   \n",
       "Feedback                          0.204408                    0.115614   \n",
       "\n",
       "                            Family size  latitude  longitude  Pin code  \\\n",
       "Age                            0.169982  0.006595   0.047500  0.137294   \n",
       "Gender                        -0.082488 -0.046424  -0.059175  0.035685   \n",
       "Marital Status                -0.207170  0.053687  -0.032214 -0.099405   \n",
       "Occupation                    -0.056563  0.112430  -0.193483 -0.138857   \n",
       "Monthly Income                 0.018184  0.078574  -0.137106 -0.074439   \n",
       "Educational Qualifications     0.011846  0.073258  -0.113820 -0.097340   \n",
       "Family size                    1.000000 -0.053537   0.070126 -0.009402   \n",
       "latitude                      -0.053537  1.000000  -0.144234 -0.201813   \n",
       "longitude                      0.070126 -0.144234   1.000000  0.156119   \n",
       "Pin code                      -0.009402 -0.201813   0.156119  1.000000   \n",
       "Output                        -0.043780 -0.159963   0.045265 -0.019929   \n",
       "Feedback                      -0.010148 -0.128939   0.073083 -0.003603   \n",
       "\n",
       "                              Output  Feedback  \n",
       "Age                        -0.248052 -0.198170  \n",
       "Gender                      0.034701 -0.045486  \n",
       "Marital Status              0.268759  0.188500  \n",
       "Occupation                  0.253506  0.195984  \n",
       "Monthly Income              0.211994  0.204408  \n",
       "Educational Qualifications  0.131758  0.115614  \n",
       "Family size                -0.043780 -0.010148  \n",
       "latitude                   -0.159963 -0.128939  \n",
       "longitude                   0.045265  0.073083  \n",
       "Pin code                   -0.019929 -0.003603  \n",
       "Output                      1.000000  0.592609  \n",
       "Feedback                    0.592609  1.000000  "
      ]
     },
     "execution_count": 6,
     "metadata": {},
     "output_type": "execute_result"
    }
   ],
   "source": [
    "df.corr()"
   ]
  },
  {
   "cell_type": "code",
   "execution_count": 56,
   "id": "006f4dd3",
   "metadata": {},
   "outputs": [],
   "source": [
    "x=df[['Gender']].values\n",
    "y=df['Feedback']"
   ]
  },
  {
   "cell_type": "code",
   "execution_count": 57,
   "id": "5c66ac93",
   "metadata": {},
   "outputs": [],
   "source": [
    "x_train,x_test,y_train,y_test=train_test_split(x,y,test_size=0.2,random_state=42)"
   ]
  },
  {
   "cell_type": "code",
   "execution_count": 58,
   "id": "081cd96e",
   "metadata": {},
   "outputs": [
    {
     "data": {
      "text/html": [
       "<style>#sk-container-id-10 {color: black;background-color: white;}#sk-container-id-10 pre{padding: 0;}#sk-container-id-10 div.sk-toggleable {background-color: white;}#sk-container-id-10 label.sk-toggleable__label {cursor: pointer;display: block;width: 100%;margin-bottom: 0;padding: 0.3em;box-sizing: border-box;text-align: center;}#sk-container-id-10 label.sk-toggleable__label-arrow:before {content: \"▸\";float: left;margin-right: 0.25em;color: #696969;}#sk-container-id-10 label.sk-toggleable__label-arrow:hover:before {color: black;}#sk-container-id-10 div.sk-estimator:hover label.sk-toggleable__label-arrow:before {color: black;}#sk-container-id-10 div.sk-toggleable__content {max-height: 0;max-width: 0;overflow: hidden;text-align: left;background-color: #f0f8ff;}#sk-container-id-10 div.sk-toggleable__content pre {margin: 0.2em;color: black;border-radius: 0.25em;background-color: #f0f8ff;}#sk-container-id-10 input.sk-toggleable__control:checked~div.sk-toggleable__content {max-height: 200px;max-width: 100%;overflow: auto;}#sk-container-id-10 input.sk-toggleable__control:checked~label.sk-toggleable__label-arrow:before {content: \"▾\";}#sk-container-id-10 div.sk-estimator input.sk-toggleable__control:checked~label.sk-toggleable__label {background-color: #d4ebff;}#sk-container-id-10 div.sk-label input.sk-toggleable__control:checked~label.sk-toggleable__label {background-color: #d4ebff;}#sk-container-id-10 input.sk-hidden--visually {border: 0;clip: rect(1px 1px 1px 1px);clip: rect(1px, 1px, 1px, 1px);height: 1px;margin: -1px;overflow: hidden;padding: 0;position: absolute;width: 1px;}#sk-container-id-10 div.sk-estimator {font-family: monospace;background-color: #f0f8ff;border: 1px dotted black;border-radius: 0.25em;box-sizing: border-box;margin-bottom: 0.5em;}#sk-container-id-10 div.sk-estimator:hover {background-color: #d4ebff;}#sk-container-id-10 div.sk-parallel-item::after {content: \"\";width: 100%;border-bottom: 1px solid gray;flex-grow: 1;}#sk-container-id-10 div.sk-label:hover label.sk-toggleable__label {background-color: #d4ebff;}#sk-container-id-10 div.sk-serial::before {content: \"\";position: absolute;border-left: 1px solid gray;box-sizing: border-box;top: 0;bottom: 0;left: 50%;z-index: 0;}#sk-container-id-10 div.sk-serial {display: flex;flex-direction: column;align-items: center;background-color: white;padding-right: 0.2em;padding-left: 0.2em;position: relative;}#sk-container-id-10 div.sk-item {position: relative;z-index: 1;}#sk-container-id-10 div.sk-parallel {display: flex;align-items: stretch;justify-content: center;background-color: white;position: relative;}#sk-container-id-10 div.sk-item::before, #sk-container-id-10 div.sk-parallel-item::before {content: \"\";position: absolute;border-left: 1px solid gray;box-sizing: border-box;top: 0;bottom: 0;left: 50%;z-index: -1;}#sk-container-id-10 div.sk-parallel-item {display: flex;flex-direction: column;z-index: 1;position: relative;background-color: white;}#sk-container-id-10 div.sk-parallel-item:first-child::after {align-self: flex-end;width: 50%;}#sk-container-id-10 div.sk-parallel-item:last-child::after {align-self: flex-start;width: 50%;}#sk-container-id-10 div.sk-parallel-item:only-child::after {width: 0;}#sk-container-id-10 div.sk-dashed-wrapped {border: 1px dashed gray;margin: 0 0.4em 0.5em 0.4em;box-sizing: border-box;padding-bottom: 0.4em;background-color: white;}#sk-container-id-10 div.sk-label label {font-family: monospace;font-weight: bold;display: inline-block;line-height: 1.2em;}#sk-container-id-10 div.sk-label-container {text-align: center;}#sk-container-id-10 div.sk-container {/* jupyter's `normalize.less` sets `[hidden] { display: none; }` but bootstrap.min.css set `[hidden] { display: none !important; }` so we also need the `!important` here to be able to override the default hidden behavior on the sphinx rendered scikit-learn.org. See: https://github.com/scikit-learn/scikit-learn/issues/21755 */display: inline-block !important;position: relative;}#sk-container-id-10 div.sk-text-repr-fallback {display: none;}</style><div id=\"sk-container-id-10\" class=\"sk-top-container\"><div class=\"sk-text-repr-fallback\"><pre>DecisionTreeClassifier(random_state=42)</pre><b>In a Jupyter environment, please rerun this cell to show the HTML representation or trust the notebook. <br />On GitHub, the HTML representation is unable to render, please try loading this page with nbviewer.org.</b></div><div class=\"sk-container\" hidden><div class=\"sk-item\"><div class=\"sk-estimator sk-toggleable\"><input class=\"sk-toggleable__control sk-hidden--visually\" id=\"sk-estimator-id-10\" type=\"checkbox\" checked><label for=\"sk-estimator-id-10\" class=\"sk-toggleable__label sk-toggleable__label-arrow\">DecisionTreeClassifier</label><div class=\"sk-toggleable__content\"><pre>DecisionTreeClassifier(random_state=42)</pre></div></div></div></div></div>"
      ],
      "text/plain": [
       "DecisionTreeClassifier(random_state=42)"
      ]
     },
     "execution_count": 58,
     "metadata": {},
     "output_type": "execute_result"
    }
   ],
   "source": [
    "DC=DecisionTreeClassifier(criterion='gini',random_state=42)\n",
    "DC.fit(x_train,y_train)"
   ]
  },
  {
   "cell_type": "code",
   "execution_count": 59,
   "id": "353190ab",
   "metadata": {},
   "outputs": [
    {
     "data": {
      "text/plain": [
       "array([1, 1, 1, 1, 1, 1, 1, 1, 1, 1, 1, 1, 1, 1, 1, 1, 1, 1, 1, 1, 1, 1,\n",
       "       1, 1, 1, 1, 1, 1, 1, 1, 1, 1, 1, 1, 1, 1, 1, 1, 1, 1, 1, 1, 1, 1,\n",
       "       1, 1, 1, 1, 1, 1, 1, 1, 1, 1, 1, 1, 1, 1, 1, 1, 1, 1, 1, 1, 1, 1,\n",
       "       1, 1, 1, 1, 1, 1, 1, 1, 1, 1, 1, 1])"
      ]
     },
     "execution_count": 59,
     "metadata": {},
     "output_type": "execute_result"
    }
   ],
   "source": [
    "C_pred=DC.predict(x_test)\n",
    "C_pred"
   ]
  },
  {
   "cell_type": "code",
   "execution_count": 60,
   "id": "c3f8ae97",
   "metadata": {},
   "outputs": [
    {
     "data": {
      "text/plain": [
       "'Accuracy_Score --> 0.8589743589743589'"
      ]
     },
     "execution_count": 60,
     "metadata": {},
     "output_type": "execute_result"
    }
   ],
   "source": [
    "C_ac=(f'Accuracy_Score --> {accuracy_score(y_test,C_pred)}')\n",
    "C_matrix=confusion_matrix(y_test,C_pred)\n",
    "C_ac\n"
   ]
  },
  {
   "cell_type": "code",
   "execution_count": 61,
   "id": "232b543a",
   "metadata": {},
   "outputs": [
    {
     "name": "stdout",
     "output_type": "stream",
     "text": [
      "[[ 0 11]\n",
      " [ 0 67]]\n"
     ]
    }
   ],
   "source": [
    "print(C_matrix)"
   ]
  },
  {
   "cell_type": "code",
   "execution_count": 62,
   "id": "8b3afb50",
   "metadata": {},
   "outputs": [
    {
     "name": "stdout",
     "output_type": "stream",
     "text": [
      "              precision    recall  f1-score   support\n",
      "\n",
      "           0       0.00      0.00      0.00        11\n",
      "           1       0.86      1.00      0.92        67\n",
      "\n",
      "    accuracy                           0.86        78\n",
      "   macro avg       0.43      0.50      0.46        78\n",
      "weighted avg       0.74      0.86      0.79        78\n",
      "\n"
     ]
    },
    {
     "name": "stderr",
     "output_type": "stream",
     "text": [
      "C:\\Users\\shahn\\anaconda3\\Lib\\site-packages\\sklearn\\metrics\\_classification.py:1344: UndefinedMetricWarning: Precision and F-score are ill-defined and being set to 0.0 in labels with no predicted samples. Use `zero_division` parameter to control this behavior.\n",
      "  _warn_prf(average, modifier, msg_start, len(result))\n",
      "C:\\Users\\shahn\\anaconda3\\Lib\\site-packages\\sklearn\\metrics\\_classification.py:1344: UndefinedMetricWarning: Precision and F-score are ill-defined and being set to 0.0 in labels with no predicted samples. Use `zero_division` parameter to control this behavior.\n",
      "  _warn_prf(average, modifier, msg_start, len(result))\n",
      "C:\\Users\\shahn\\anaconda3\\Lib\\site-packages\\sklearn\\metrics\\_classification.py:1344: UndefinedMetricWarning: Precision and F-score are ill-defined and being set to 0.0 in labels with no predicted samples. Use `zero_division` parameter to control this behavior.\n",
      "  _warn_prf(average, modifier, msg_start, len(result))\n"
     ]
    }
   ],
   "source": [
    "Report=classification_report(y_test,C_pred)\n",
    "print(Report)"
   ]
  },
  {
   "cell_type": "markdown",
   "id": "071ff6e6",
   "metadata": {},
   "source": [
    "# DecisionTreeRegressor"
   ]
  },
  {
   "cell_type": "code",
   "execution_count": 64,
   "id": "ebf0d78b",
   "metadata": {},
   "outputs": [],
   "source": [
    "df2=pd.read_csv(\"C:/avacado price datset/archive (10)/avocado.csv\")"
   ]
  },
  {
   "cell_type": "code",
   "execution_count": 106,
   "id": "b93a6022",
   "metadata": {},
   "outputs": [
    {
     "data": {
      "text/html": [
       "<div>\n",
       "<style scoped>\n",
       "    .dataframe tbody tr th:only-of-type {\n",
       "        vertical-align: middle;\n",
       "    }\n",
       "\n",
       "    .dataframe tbody tr th {\n",
       "        vertical-align: top;\n",
       "    }\n",
       "\n",
       "    .dataframe thead th {\n",
       "        text-align: right;\n",
       "    }\n",
       "</style>\n",
       "<table border=\"1\" class=\"dataframe\">\n",
       "  <thead>\n",
       "    <tr style=\"text-align: right;\">\n",
       "      <th></th>\n",
       "      <th>AveragePrice</th>\n",
       "      <th>Total Volume</th>\n",
       "      <th>4046</th>\n",
       "      <th>4225</th>\n",
       "      <th>4770</th>\n",
       "      <th>Total Bags</th>\n",
       "      <th>Small Bags</th>\n",
       "      <th>Large Bags</th>\n",
       "      <th>XLarge Bags</th>\n",
       "      <th>type</th>\n",
       "      <th>year</th>\n",
       "      <th>region</th>\n",
       "    </tr>\n",
       "  </thead>\n",
       "  <tbody>\n",
       "    <tr>\n",
       "      <th>0</th>\n",
       "      <td>1.33</td>\n",
       "      <td>64236.62</td>\n",
       "      <td>1036.74</td>\n",
       "      <td>54454.85</td>\n",
       "      <td>48.16</td>\n",
       "      <td>8696.87</td>\n",
       "      <td>8603.62</td>\n",
       "      <td>93.25</td>\n",
       "      <td>0.0</td>\n",
       "      <td>0</td>\n",
       "      <td>2015</td>\n",
       "      <td>0</td>\n",
       "    </tr>\n",
       "    <tr>\n",
       "      <th>1</th>\n",
       "      <td>1.35</td>\n",
       "      <td>54876.98</td>\n",
       "      <td>674.28</td>\n",
       "      <td>44638.81</td>\n",
       "      <td>58.33</td>\n",
       "      <td>9505.56</td>\n",
       "      <td>9408.07</td>\n",
       "      <td>97.49</td>\n",
       "      <td>0.0</td>\n",
       "      <td>0</td>\n",
       "      <td>2015</td>\n",
       "      <td>0</td>\n",
       "    </tr>\n",
       "    <tr>\n",
       "      <th>2</th>\n",
       "      <td>0.93</td>\n",
       "      <td>118220.22</td>\n",
       "      <td>794.70</td>\n",
       "      <td>109149.67</td>\n",
       "      <td>130.50</td>\n",
       "      <td>8145.35</td>\n",
       "      <td>8042.21</td>\n",
       "      <td>103.14</td>\n",
       "      <td>0.0</td>\n",
       "      <td>0</td>\n",
       "      <td>2015</td>\n",
       "      <td>0</td>\n",
       "    </tr>\n",
       "    <tr>\n",
       "      <th>3</th>\n",
       "      <td>1.08</td>\n",
       "      <td>78992.15</td>\n",
       "      <td>1132.00</td>\n",
       "      <td>71976.41</td>\n",
       "      <td>72.58</td>\n",
       "      <td>5811.16</td>\n",
       "      <td>5677.40</td>\n",
       "      <td>133.76</td>\n",
       "      <td>0.0</td>\n",
       "      <td>0</td>\n",
       "      <td>2015</td>\n",
       "      <td>0</td>\n",
       "    </tr>\n",
       "    <tr>\n",
       "      <th>4</th>\n",
       "      <td>1.28</td>\n",
       "      <td>51039.60</td>\n",
       "      <td>941.48</td>\n",
       "      <td>43838.39</td>\n",
       "      <td>75.78</td>\n",
       "      <td>6183.95</td>\n",
       "      <td>5986.26</td>\n",
       "      <td>197.69</td>\n",
       "      <td>0.0</td>\n",
       "      <td>0</td>\n",
       "      <td>2015</td>\n",
       "      <td>0</td>\n",
       "    </tr>\n",
       "  </tbody>\n",
       "</table>\n",
       "</div>"
      ],
      "text/plain": [
       "   AveragePrice  Total Volume     4046       4225    4770  Total Bags  \\\n",
       "0          1.33      64236.62  1036.74   54454.85   48.16     8696.87   \n",
       "1          1.35      54876.98   674.28   44638.81   58.33     9505.56   \n",
       "2          0.93     118220.22   794.70  109149.67  130.50     8145.35   \n",
       "3          1.08      78992.15  1132.00   71976.41   72.58     5811.16   \n",
       "4          1.28      51039.60   941.48   43838.39   75.78     6183.95   \n",
       "\n",
       "   Small Bags  Large Bags  XLarge Bags  type  year  region  \n",
       "0     8603.62       93.25          0.0     0  2015       0  \n",
       "1     9408.07       97.49          0.0     0  2015       0  \n",
       "2     8042.21      103.14          0.0     0  2015       0  \n",
       "3     5677.40      133.76          0.0     0  2015       0  \n",
       "4     5986.26      197.69          0.0     0  2015       0  "
      ]
     },
     "execution_count": 106,
     "metadata": {},
     "output_type": "execute_result"
    }
   ],
   "source": [
    "df2.head()"
   ]
  },
  {
   "cell_type": "code",
   "execution_count": 79,
   "id": "a57043f6",
   "metadata": {},
   "outputs": [],
   "source": [
    "df2.drop(['Date','Unnamed: 0'],axis=1,inplace=True)"
   ]
  },
  {
   "cell_type": "code",
   "execution_count": 88,
   "id": "e1b597c4",
   "metadata": {},
   "outputs": [],
   "source": [
    "encoder=LabelEncoder()\n",
    "encoder10=LabelEncoder()\n"
   ]
  },
  {
   "cell_type": "code",
   "execution_count": 92,
   "id": "025af38c",
   "metadata": {},
   "outputs": [],
   "source": [
    "df2['region']=encoder.fit_transform(df2.region)\n",
    "df2['type']=encoder10.fit_transform(df2.type)"
   ]
  },
  {
   "cell_type": "code",
   "execution_count": 143,
   "id": "c9d5313f",
   "metadata": {},
   "outputs": [],
   "source": [
    "x1=df2[['Large Bags','Total Volume','4046','4225','4770','Total Bags','Small Bags','XLarge Bags']]\n",
    "y1=df2['AveragePrice']"
   ]
  },
  {
   "cell_type": "code",
   "execution_count": 144,
   "id": "75496bbb",
   "metadata": {},
   "outputs": [
    {
     "data": {
      "text/html": [
       "<style>#sk-container-id-18 {color: black;background-color: white;}#sk-container-id-18 pre{padding: 0;}#sk-container-id-18 div.sk-toggleable {background-color: white;}#sk-container-id-18 label.sk-toggleable__label {cursor: pointer;display: block;width: 100%;margin-bottom: 0;padding: 0.3em;box-sizing: border-box;text-align: center;}#sk-container-id-18 label.sk-toggleable__label-arrow:before {content: \"▸\";float: left;margin-right: 0.25em;color: #696969;}#sk-container-id-18 label.sk-toggleable__label-arrow:hover:before {color: black;}#sk-container-id-18 div.sk-estimator:hover label.sk-toggleable__label-arrow:before {color: black;}#sk-container-id-18 div.sk-toggleable__content {max-height: 0;max-width: 0;overflow: hidden;text-align: left;background-color: #f0f8ff;}#sk-container-id-18 div.sk-toggleable__content pre {margin: 0.2em;color: black;border-radius: 0.25em;background-color: #f0f8ff;}#sk-container-id-18 input.sk-toggleable__control:checked~div.sk-toggleable__content {max-height: 200px;max-width: 100%;overflow: auto;}#sk-container-id-18 input.sk-toggleable__control:checked~label.sk-toggleable__label-arrow:before {content: \"▾\";}#sk-container-id-18 div.sk-estimator input.sk-toggleable__control:checked~label.sk-toggleable__label {background-color: #d4ebff;}#sk-container-id-18 div.sk-label input.sk-toggleable__control:checked~label.sk-toggleable__label {background-color: #d4ebff;}#sk-container-id-18 input.sk-hidden--visually {border: 0;clip: rect(1px 1px 1px 1px);clip: rect(1px, 1px, 1px, 1px);height: 1px;margin: -1px;overflow: hidden;padding: 0;position: absolute;width: 1px;}#sk-container-id-18 div.sk-estimator {font-family: monospace;background-color: #f0f8ff;border: 1px dotted black;border-radius: 0.25em;box-sizing: border-box;margin-bottom: 0.5em;}#sk-container-id-18 div.sk-estimator:hover {background-color: #d4ebff;}#sk-container-id-18 div.sk-parallel-item::after {content: \"\";width: 100%;border-bottom: 1px solid gray;flex-grow: 1;}#sk-container-id-18 div.sk-label:hover label.sk-toggleable__label {background-color: #d4ebff;}#sk-container-id-18 div.sk-serial::before {content: \"\";position: absolute;border-left: 1px solid gray;box-sizing: border-box;top: 0;bottom: 0;left: 50%;z-index: 0;}#sk-container-id-18 div.sk-serial {display: flex;flex-direction: column;align-items: center;background-color: white;padding-right: 0.2em;padding-left: 0.2em;position: relative;}#sk-container-id-18 div.sk-item {position: relative;z-index: 1;}#sk-container-id-18 div.sk-parallel {display: flex;align-items: stretch;justify-content: center;background-color: white;position: relative;}#sk-container-id-18 div.sk-item::before, #sk-container-id-18 div.sk-parallel-item::before {content: \"\";position: absolute;border-left: 1px solid gray;box-sizing: border-box;top: 0;bottom: 0;left: 50%;z-index: -1;}#sk-container-id-18 div.sk-parallel-item {display: flex;flex-direction: column;z-index: 1;position: relative;background-color: white;}#sk-container-id-18 div.sk-parallel-item:first-child::after {align-self: flex-end;width: 50%;}#sk-container-id-18 div.sk-parallel-item:last-child::after {align-self: flex-start;width: 50%;}#sk-container-id-18 div.sk-parallel-item:only-child::after {width: 0;}#sk-container-id-18 div.sk-dashed-wrapped {border: 1px dashed gray;margin: 0 0.4em 0.5em 0.4em;box-sizing: border-box;padding-bottom: 0.4em;background-color: white;}#sk-container-id-18 div.sk-label label {font-family: monospace;font-weight: bold;display: inline-block;line-height: 1.2em;}#sk-container-id-18 div.sk-label-container {text-align: center;}#sk-container-id-18 div.sk-container {/* jupyter's `normalize.less` sets `[hidden] { display: none; }` but bootstrap.min.css set `[hidden] { display: none !important; }` so we also need the `!important` here to be able to override the default hidden behavior on the sphinx rendered scikit-learn.org. See: https://github.com/scikit-learn/scikit-learn/issues/21755 */display: inline-block !important;position: relative;}#sk-container-id-18 div.sk-text-repr-fallback {display: none;}</style><div id=\"sk-container-id-18\" class=\"sk-top-container\"><div class=\"sk-text-repr-fallback\"><pre>DecisionTreeRegressor()</pre><b>In a Jupyter environment, please rerun this cell to show the HTML representation or trust the notebook. <br />On GitHub, the HTML representation is unable to render, please try loading this page with nbviewer.org.</b></div><div class=\"sk-container\" hidden><div class=\"sk-item\"><div class=\"sk-estimator sk-toggleable\"><input class=\"sk-toggleable__control sk-hidden--visually\" id=\"sk-estimator-id-18\" type=\"checkbox\" checked><label for=\"sk-estimator-id-18\" class=\"sk-toggleable__label sk-toggleable__label-arrow\">DecisionTreeRegressor</label><div class=\"sk-toggleable__content\"><pre>DecisionTreeRegressor()</pre></div></div></div></div></div>"
      ],
      "text/plain": [
       "DecisionTreeRegressor()"
      ]
     },
     "execution_count": 144,
     "metadata": {},
     "output_type": "execute_result"
    }
   ],
   "source": [
    "DR=DecisionTreeRegressor()\n",
    "DR.fit(x1,y1)"
   ]
  },
  {
   "cell_type": "code",
   "execution_count": 145,
   "id": "c5405abd",
   "metadata": {},
   "outputs": [
    {
     "data": {
      "text/plain": [
       "array([1.33, 1.35, 0.93, ..., 1.87, 1.93, 1.62])"
      ]
     },
     "execution_count": 145,
     "metadata": {},
     "output_type": "execute_result"
    }
   ],
   "source": [
    "R_pred=DR.predict(x1)\n",
    "R_pred"
   ]
  },
  {
   "cell_type": "code",
   "execution_count": 146,
   "id": "0d2d03be",
   "metadata": {},
   "outputs": [
    {
     "data": {
      "text/plain": [
       "1.0"
      ]
     },
     "execution_count": 146,
     "metadata": {},
     "output_type": "execute_result"
    }
   ],
   "source": [
    "r2_score(y1,R_pred)"
   ]
  },
  {
   "cell_type": "code",
   "execution_count": 148,
   "id": "554d7f48",
   "metadata": {},
   "outputs": [
    {
     "data": {
      "image/png": "[encoded data removed]",
      "text/plain": [
       "<Figure size 1400x400 with 1 Axes>"
      ]
     },
     "metadata": {},
     "output_type": "display_data"
    }
   ],
   "source": [
    "plt.figure(figsize=(14,4))\n",
    "plt.scatter(R_pred,y1,color='red')\n",
    "plt.title('Decision Tree Regressor')\n",
    "plt.xlabel('Gende')\n",
    "plt.ylabel('Feedback')\n",
    "plt.show()"
   ]
  },
  {
   "cell_type": "code",
   "execution_count": null,
   "id": "086bac28",
   "metadata": {},
   "outputs": [],
   "source": []
  }
 ],
 "metadata": {
  "kernelspec": {
   "display_name": "Python 3 (ipykernel)",
   "language": "python",
   "name": "python3"
  },
  "language_info": {
   "codemirror_mode": {
    "name": "ipython",
    "version": 3
   },
   "file_extension": ".py",
   "mimetype": "text/x-python",
   "name": "python",
   "nbconvert_exporter": "python",
   "pygments_lexer": "ipython3",
   "version": "3.11.8"
  }
 },
 "nbformat": 4,
 "nbformat_minor": 5
}
